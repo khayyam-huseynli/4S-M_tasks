{
 "cells": [
  {
   "cell_type": "markdown",
   "metadata": {},
   "source": [
    "# Titanik Məlumat Dəstinin Təhlili və ML Alqoritminin qurulması\n",
    "\n",
    "Bu notebook Titanik məlumat dəstindən istifadə edərək, sərnişinlərin sağ qalma ehtimalını proqnozlaşdıran təsnifat modeli yaradılır. İş aşağıdakı mərhələlərdən ibarətdir:\n",
    "1. Məlumatların yüklənməsi və ilkin araşdırılması\n",
    "2. Məlumatların vizualizasiyası\n",
    "3. Məlumatların hazırlanması\n",
    "4. Model qurulması\n",
    "5. Model optimizasiyası və qiymətləndirilməsi"
   ]
  },
  {
   "cell_type": "code",
   "execution_count": null,
   "metadata": {},
   "outputs": [],
   "source": [
    "# Lazım olan kitabxanaları import edək\n",
    "import pandas as pd\n",
    "import numpy as np\n",
    "import seaborn as sns\n",
    "import matplotlib.pyplot as plt\n",
    "from sklearn.model_selection import train_test_split, GridSearchCV\n",
    "from sklearn.preprocessing import StandardScaler, OneHotEncoder\n",
    "from sklearn.impute import SimpleImputer\n",
    "from sklearn.compose import ColumnTransformer\n",
    "from sklearn.pipeline import Pipeline\n",
    "from sklearn.ensemble import RandomForestClassifier\n",
    "from sklearn.metrics import accuracy_score, classification_report, confusion_matrix"
   ]
  },
  {
   "cell_type": "markdown",
   "metadata": {},
   "source": [
    "## 1. Məlumatların yüklənməsi və ilkin araşdırılması\n",
    "\n",
    "Seaborn kitabxanasının daxili Titanic məlumat dəsti yüklənilir və bu məlumatlar araşdırılır."
   ]
  },
  {
   "cell_type": "code",
   "execution_count": null,
   "metadata": {},
   "outputs": [],
   "source": [
    "# Titanic datasetini yükləyək\n",
    "titanic = sns.load_dataset('titanic')\n",
    "\n",
    "# Datasetə ilkin baxış\n",
    "print(\"Dataset ölçüsü:\", titanic.shape)\n",
    "print(\"\\nİlk 5 sətir:\")\n",
    "display(titanic.head())"
   ]
  },
  {
   "cell_type": "code",
   "execution_count": null,
   "metadata": {},
   "outputs": [],
   "source": [
    "# Sütunların növü və boş dəyərlərin sayı\n",
    "print(\"\\nDəyişənlərin növü və boş dəyərlər:\")\n",
    "titanic.info()"
   ]
  },
  {
   "cell_type": "code",
   "execution_count": null,
   "metadata": {},
   "outputs": [],
   "source": [
    "# Statistik məlumat\n",
    "print(\"\\nStatistik məlumat:\")\n",
    "titanic.describe()"
   ]
  },
  {
   "cell_type": "code",
   "execution_count": null,
   "metadata": {},
   "outputs": [],
   "source": [
    "# Boş dəyərlərin sayı\n",
    "print(\"\\nHər sütundakı boş dəyərlər:\")\n",
    "titanic.isnull().sum()"
   ]
  },
  {
   "cell_type": "markdown",
   "metadata": {},
   "source": [
    "## 2. Məlumatların vizualizasiyası\n",
    "\n",
    "Verilənləri daha yaxşı anlamaq üçün bir neçə qrafik və vizualizasiya yaradılır."
   ]
  },
  {
   "cell_type": "code",
   "execution_count": null,
   "metadata": {},
   "outputs": [],
   "source": [
    "# Datasetdə korrelasiya analizi və vizualizasiyası\n",
    "plt.figure(figsize=(12, 8))\n",
    "correlation = titanic.select_dtypes(include=['float64', 'int64']).corr()\n",
    "sns.heatmap(correlation, annot=True, cmap='coolwarm', linewidths=0.5)\n",
    "plt.title('Korrelasiya Matrisi')\n",
    "plt.tight_layout()"
   ]
  },
  {
   "cell_type": "code",
   "execution_count": null,
   "metadata": {},
   "outputs": [],
   "source": [
    "# Sağ qalanların sayı\n",
    "plt.figure(figsize=(8, 6))\n",
    "sns.countplot(x='survived', data=titanic)\n",
    "plt.title('Sağ qalanlar və həlak olanlar')\n",
    "plt.xlabel('Sağ qalma (0: Həlak olub, 1: Sağ qalıb)')\n",
    "plt.ylabel('Sərnişin sayı')"
   ]
  },
  {
   "cell_type": "code",
   "execution_count": null,
   "metadata": {},
   "outputs": [],
   "source": [
    "# Cinslərə görə sağ qalma nisbəti\n",
    "plt.figure(figsize=(8, 6))\n",
    "sns.countplot(x='sex', hue='survived', data=titanic)\n",
    "plt.title('Cinslərə görə sağ qalma nisbəti')\n",
    "plt.xlabel('Cins')\n",
    "plt.ylabel('Sərnişin sayı')\n",
    "plt.legend(['Həlak olub', 'Sağ qalıb'])"
   ]
  },
  {
   "cell_type": "code",
   "execution_count": null,
   "metadata": {},
   "outputs": [],
   "source": [
    "# Sərnişin siniflərinə görə sağ qalma nisbəti\n",
    "plt.figure(figsize=(8, 6))\n",
    "sns.countplot(x='class', hue='survived', data=titanic)\n",
    "plt.title('Sərnişin siniflərinə görə sağ qalma nisbəti')\n",
    "plt.xlabel('Sinif')\n",
    "plt.ylabel('Sərnişin sayı')\n",
    "plt.legend(['Həlak olub', 'Sağ qalıb'])"
   ]
  },
  {
   "cell_type": "code",
   "execution_count": null,
   "metadata": {},
   "outputs": [],
   "source": [
    "# Yaş qruplarına görə sağ qalma nisbəti\n",
    "plt.figure(figsize=(12, 6))\n",
    "sns.histplot(data=titanic, x='age', hue='survived', multiple='stack', bins=20)\n",
    "plt.title('Yaş qruplarına görə sağ qalma nisbəti')\n",
    "plt.xlabel('Yaş')\n",
    "plt.ylabel('Sərnişin sayı')"
   ]
  },
  {
   "cell_type": "markdown",
   "metadata": {},
   "source": [
    "## 3. Məlumatların hazırlanması\n",
    "\n",
    "Növbəti addım model qurmazdan əvvəl məlumatları işləmək və hazırlamaqdır."
   ]
  },
  {
   "cell_type": "code",
   "execution_count": null,
   "metadata": {},
   "outputs": [],
   "source": [
    "# Data hazırlığı\n",
    "# Hədəf və xüsusiyyətləri ayıraq\n",
    "X = titanic.drop(['survived', 'alive'], axis=1)  # 'alive' sütunu 'survived' ilə eynidir\n",
    "y = titanic['survived']\n",
    "\n",
    "# Kateqoriyalı və ədədi sütunları ayıraq\n",
    "categorical_cols = ['sex', 'embarked', 'class', 'who', 'adult_male', 'deck', 'embark_town', 'alone']\n",
    "numerical_cols = ['age', 'pclass', 'sibsp', 'parch', 'fare']"
   ]
  },
  {
   "cell_type": "code",
   "execution_count": null,
   "metadata": {},
   "outputs": [],
   "source": [
    "# Preprocessing pipelines\n",
    "numerical_transformer = Pipeline(steps=[\n",
    "    ('imputer', SimpleImputer(strategy='median')),\n",
    "    ('scaler', StandardScaler())\n",
    "])\n",
    "\n",
    "categorical_transformer = Pipeline(steps=[\n",
    "    ('imputer', SimpleImputer(strategy='most_frequent')),\n",
    "    ('onehot', OneHotEncoder(handle_unknown='ignore'))\n",
    "])\n",
    "\n",
    "# ColumnTransformer ilə preprocessing\n",
    "preprocessor = ColumnTransformer(\n",
    "    transformers=[\n",
    "        ('num', numerical_transformer, numerical_cols),\n",
    "        ('cat', categorical_transformer, categorical_cols)\n",
    "    ])"
   ]
  },
  {
   "cell_type": "markdown",
   "metadata": {},
   "source": [
    "## 4. Model qurulması\n",
    "\n",
    "Random Forest klassifikatoru istifadə edilərək model yaradılır və qiymətləndirilir."
   ]
  },
  {
   "cell_type": "code",
   "execution_count": null,
   "metadata": {},
   "outputs": [],
   "source": [
    "# Model yaradaq - RandomForest istifadə edək\n",
    "model = Pipeline(steps=[\n",
    "    ('preprocessor', preprocessor),\n",
    "    ('classifier', RandomForestClassifier(random_state=42))\n",
    "])\n",
    "\n",
    "# Train və test məlumatlarını ayıraq\n",
    "X_train, X_test, y_train, y_test = train_test_split(X, y, test_size=0.2, random_state=42)\n",
    "\n",
    "# Modeli öyrədək\n",
    "model.fit(X_train, y_train)"
   ]
  },
  {
   "cell_type": "code",
   "execution_count": null,
   "metadata": {},
   "outputs": [],
   "source": [
    "# Test məlumatları üzərində proqnozlar\n",
    "y_pred = model.predict(X_test)\n",
    "\n",
    "# Model qiymətləndirməsi\n",
    "print(\"\\nTest məlumatları üzərində dəqiqlik:\", accuracy_score(y_test, y_pred))\n",
    "print(\"\\nTəsnifat hesabatı:\")\n",
    "print(classification_report(y_test, y_pred))"
   ]
  },
  {
   "cell_type": "code",
   "execution_count": null,
   "metadata": {},
   "outputs": [],
   "source": [
    "# Qarışıqlıq matrisi\n",
    "plt.figure(figsize=(8, 6))\n",
    "cm = confusion_matrix(y_test, y_pred)\n",
    "sns.heatmap(cm, annot=True, fmt='d', cmap='Blues')\n",
    "plt.title('Qarışıqlıq Matrisi')\n",
    "plt.xlabel('Proqnoz')\n",
    "plt.ylabel('Həqiqi')"
   ]
  },
  {
   "cell_type": "markdown",
   "metadata": {},
   "source": [
    "## 5. Model optimizasiyası və qiymətləndirilməsi\n",
    "\n",
    "GridSearchCV istifadə edərək optimal hiperparametrlər tapılır."
   ]
  },
  {
   "cell_type": "code",
   "execution_count": null,
   "metadata": {},
   "outputs": [],
   "source": [
    "# Hyperparameter tuning - GridSearchCV\n",
    "param_grid = {\n",
    "    'classifier__n_estimators': [50, 100, 200],\n",
    "    'classifier__max_depth': [None, 10, 20],\n",
    "    'classifier__min_samples_split': [2, 5, 10]\n",
    "}\n",
    "\n",
    "grid_search = GridSearchCV(model, param_grid, cv=5, scoring='accuracy')\n",
    "grid_search.fit(X_train, y_train)\n",
    "\n",
    "print(\"\\nƏn yaxşı parametrlər:\", grid_search.best_params_)\n",
    "print(\"Ən yaxşı cross-validation nəticəsi:\", grid_search.best_score_)"
   ]
  },
  {
   "cell_type": "code",
   "execution_count": null,
   "metadata": {},
   "outputs": [],
   "source": [
    "# Ən yaxşı modelin test məlumatları üzərində qiymətləndirilməsi\n",
    "best_model = grid_search.best_estimator_\n",
    "y_pred_best = best_model.predict(X_test)\n",
    "\n",
    "print(\"\\nƏn yaxşı model ilə test məlumatları üzərində dəqiqlik:\", accuracy_score(y_test, y_pred_best))\n",
    "print(\"\\nƏn yaxşı model ilə təsnifat hesabatı:\")\n",
    "print(classification_report(y_test, y_pred_best))"
   ]
  },
  {
   "cell_type": "code",
   "execution_count": null,
   "metadata": {},
   "outputs": [],
   "source": [
    "# Xüsusiyyət əhəmiyyətliliyi\n",
    "feature_names = numerical_cols + list(best_model.named_steps['preprocessor'].transformers_[1][1].named_steps['onehot'].get_feature_names_out(categorical_cols))\n",
    "feature_importance = best_model.named_steps['classifier'].feature_importances_\n",
    "\n",
    "# Xüsusiyyət əhəmiyyətliliyini əhəmiyyətə görə sıralayaq\n",
    "sorted_idx = np.argsort(feature_importance)\n",
    "plt.figure(figsize=(12, 8))\n",
    "plt.barh(range(len(sorted_idx)), feature_importance[sorted_idx])\n",
    "plt.yticks(range(len(sorted_idx)), [feature_names[i] for i in sorted_idx])\n",
    "plt.title('Xüsusiyyət Əhəmiyyətliliyi')\n",
    "plt.xlabel('Əhəmiyyətlilik')\n",
    "plt.tight_layout()"
   ]
  },
  {
   "cell_type": "markdown",
   "metadata": {},
   "source": [
    "## Nəticə\n",
    "\n",
    "Bu notebook-da Titanic məlumat dəstini analiz etmək və sərnişinlərin sağ qalmasını proqnozlaşdırmaq üçün bir model yaradılır. Random Forest klassifikatorundan istifadə etdilir və hiperparametrlər optimallaşdırılır. Ən çox əhəmiyyət kəsb edən parametrlər müəyyən edilir."
   ]
  }
 ],
 "metadata": {
  "kernelspec": {
   "display_name": "Python 3",
   "language": "python",
   "name": "python3"
  },
  "language_info": {
   "codemirror_mode": {
    "name": "ipython",
    "version": 3
   },
   "file_extension": ".py",
   "mimetype": "text/x-python",
   "name": "python",
   "nbconvert_exporter": "python",
   "pygments_lexer": "ipython3",
   "version": "3.8.10"
  }
 },
 "nbformat": 4,
 "nbformat_minor": 4
}
